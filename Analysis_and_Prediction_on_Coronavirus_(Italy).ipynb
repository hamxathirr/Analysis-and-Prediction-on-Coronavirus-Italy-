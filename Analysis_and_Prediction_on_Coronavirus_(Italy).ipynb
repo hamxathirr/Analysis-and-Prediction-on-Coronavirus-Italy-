{
  "nbformat": 4,
  "nbformat_minor": 0,
  "metadata": {
    "kernelspec": {
      "language": "python",
      "display_name": "Python 3",
      "name": "python3"
    },
    "language_info": {
      "pygments_lexer": "ipython3",
      "nbconvert_exporter": "python",
      "version": "3.6.4",
      "file_extension": ".py",
      "codemirror_mode": {
        "name": "ipython",
        "version": 3
      },
      "name": "python",
      "mimetype": "text/x-python"
    },
    "colab": {
      "name": "Analysis and Prediction on Coronavirus (Italy).ipynb",
      "provenance": [],
      "include_colab_link": true
    }
  },
  "cells": [
    {
      "cell_type": "markdown",
      "metadata": {
        "id": "view-in-github",
        "colab_type": "text"
      },
      "source": [
        "<a href=\"https://colab.research.google.com/github/hamxathirr/Analysis-and-Prediction-on-Coronavirus-Italy-/blob/master/Analysis_and_Prediction_on_Coronavirus_(Italy).ipynb\" target=\"_parent\"><img src=\"https://colab.research.google.com/assets/colab-badge.svg\" alt=\"Open In Colab\"/></a>"
      ]
    },
    {
      "cell_type": "markdown",
      "metadata": {
        "id": "Vty0k2T_QDvx",
        "colab_type": "text"
      },
      "source": [
        "> **Current Scenario**\n",
        "\n",
        "** There are 9172 confirmed cases according to WHO. Italy is a member state of European Union andvery popular for tourism. The first case was confirmed on 30th of january when two infected chinese tourists were found. Italy is the most infected country in Europe and second most affected place after China. Many italian visitors were confirmed that they are infected with Coronavirus after visiting different foreign countries. Many Countries from Asia, America, Europe found their local cases from Italy. In the very beginning only the northern area of italy was affected after a very short time it had spread to whole italy**"
      ]
    },
    {
      "cell_type": "markdown",
      "metadata": {
        "id": "i7YV_ny0QDvy",
        "colab_type": "text"
      },
      "source": [
        "**Libraries**"
      ]
    },
    {
      "cell_type": "code",
      "metadata": {
        "_uuid": "8f2839f25d086af736a60e9eeb907d3b93b6e0e5",
        "_cell_guid": "b1076dfc-b9ad-4769-8c92-a6c4dae69d19",
        "trusted": true,
        "id": "rQE1gMAWQDvy",
        "colab_type": "code",
        "colab": {}
      },
      "source": [
        "import numpy as np\n",
        "import pandas as pd \n",
        "import seaborn as sns\n",
        "import matplotlib.pyplot as plt\n",
        "import matplotlib.dates as mdates\n",
        "import plotly.express as px\n",
        "import datetime\n",
        "from datetime import date, timedelta\n",
        "from sklearn.cluster import KMeans\n",
        "from fbprophet import Prophet\n",
        "from fbprophet.plot import plot_plotly, add_changepoints_to_plot\n",
        "import plotly.offline as py\n",
        "from statsmodels.tsa.arima_model import ARIMA\n",
        "from statsmodels.graphics.tsaplots import plot_acf, plot_pacf\n",
        "import statsmodels.api as sm\n",
        "from keras.models import Sequential\n",
        "from keras.layers import LSTM,Dense\n",
        "from keras.layers import Dropout\n",
        "from sklearn.preprocessing import MinMaxScaler\n",
        "from tensorflow.keras.preprocessing.sequence import TimeseriesGenerator"
      ],
      "execution_count": 0,
      "outputs": []
    },
    {
      "cell_type": "markdown",
      "metadata": {
        "id": "e9q0d1B2QDv1",
        "colab_type": "text"
      },
      "source": [
        "**Reading Data**"
      ]
    },
    {
      "cell_type": "code",
      "metadata": {
        "_uuid": "d629ff2d2480ee46fbb7e2d37f6b5fab8052498a",
        "_cell_guid": "79c7e3d0-c299-4dcb-8224-4455121ee9b0",
        "trusted": true,
        "id": "kaIU2TftQDv2",
        "colab_type": "code",
        "colab": {}
      },
      "source": [
        "data=pd.read_csv(\"../input/covid19-in-italy/covid19_italy_region.csv\")"
      ],
      "execution_count": 0,
      "outputs": []
    },
    {
      "cell_type": "code",
      "metadata": {
        "trusted": true,
        "id": "90Dc4Lx3QDv5",
        "colab_type": "code",
        "colab": {}
      },
      "source": [
        "an_data = pd.read_csv(\"../input/novel-corona-virus-2019-dataset/COVID19_open_line_list.csv\")"
      ],
      "execution_count": 0,
      "outputs": []
    },
    {
      "cell_type": "code",
      "metadata": {
        "trusted": true,
        "id": "244WXN3lQDv8",
        "colab_type": "code",
        "colab": {}
      },
      "source": [
        "comp = pd.read_excel('/kaggle/input/covid19327/COVID-19-3.27-top30-500.xlsx')"
      ],
      "execution_count": 0,
      "outputs": []
    },
    {
      "cell_type": "code",
      "metadata": {
        "trusted": true,
        "id": "kJeiB58-QDv-",
        "colab_type": "code",
        "colab": {}
      },
      "source": [
        "province = pd.read_csv(\"../input/covid19-in-italy/covid19_italy_province.csv\")"
      ],
      "execution_count": 0,
      "outputs": []
    },
    {
      "cell_type": "markdown",
      "metadata": {
        "id": "ff5kxISaQDwB",
        "colab_type": "text"
      },
      "source": [
        " **Looking into data**"
      ]
    },
    {
      "cell_type": "code",
      "metadata": {
        "trusted": true,
        "id": "7jNqaE5sQDwD",
        "colab_type": "code",
        "colab": {}
      },
      "source": [
        "an_data.head()"
      ],
      "execution_count": 0,
      "outputs": []
    },
    {
      "cell_type": "code",
      "metadata": {
        "trusted": true,
        "id": "z1dDWTs5QDwG",
        "colab_type": "code",
        "colab": {}
      },
      "source": [
        "an_data = an_data[an_data['country']=='Italy']\n",
        "an_data.shape\n"
      ],
      "execution_count": 0,
      "outputs": []
    },
    {
      "cell_type": "markdown",
      "metadata": {
        "id": "HJHqF_6YQDwI",
        "colab_type": "text"
      },
      "source": [
        "**Age distribution of Confirmation**"
      ]
    },
    {
      "cell_type": "code",
      "metadata": {
        "trusted": true,
        "id": "4dKpQ_2ZQDwJ",
        "colab_type": "code",
        "colab": {}
      },
      "source": [
        "plt.figure(figsize=(10,6))\n",
        "sns.set_style(\"darkgrid\")\n",
        "plt.title(\"Age distribution of Confirmation\")\n",
        "sns.kdeplot(data=an_data['age'], shade=True).set(xlim=(0))"
      ],
      "execution_count": 0,
      "outputs": []
    },
    {
      "cell_type": "markdown",
      "metadata": {
        "id": "wmUGlVydQDwL",
        "colab_type": "text"
      },
      "source": [
        "> **Age**\n",
        "\n",
        "**Here, the graph shows the age distribution of the infected people by gender. We can clearly see older people are more likely to be infected, especially older people with having lung disease and problems in their respiratory system. The age group of 40 to 50yr are more infected than the rest of the population in men. On the other hand age groups of 50yr to 70yr are more infected in womens. As Dr.Steven Gambert, professor of medicine and director of geriatrics at the University of Maryland School of Medicine says “ Older people have higher risk of underlying health conditions, older people are already under physical stress, and their immune systems, even if not significantly compromised, simply do not have the same “ability to fight viruses and bacteria”. As data says Italy has the oldest population across globe by count. According to EU statistics Italy has the lowest percentage of young people**."
      ]
    },
    {
      "cell_type": "markdown",
      "metadata": {
        "id": "KsZb_ZFBQDwL",
        "colab_type": "text"
      },
      "source": [
        "**Gender Distribution of Confirmatioin**"
      ]
    },
    {
      "cell_type": "code",
      "metadata": {
        "trusted": true,
        "id": "gJAuQ1MhQDwM",
        "colab_type": "code",
        "colab": {}
      },
      "source": [
        "plt.figure(figsize=(15, 5))\n",
        "plt.title('Gender')\n",
        "an_data.sex.value_counts().plot.bar();"
      ],
      "execution_count": 0,
      "outputs": []
    },
    {
      "cell_type": "code",
      "metadata": {
        "trusted": true,
        "id": "UOrbPtlRQDwP",
        "colab_type": "code",
        "colab": {}
      },
      "source": [
        "fig = px.pie( values=an_data.groupby(['sex']).size().values,names=an_data.groupby(['sex']).size().index)\n",
        "fig.update_layout(\n",
        "    font=dict(\n",
        "        size=15,\n",
        "        color=\"#242323\"\n",
        "    )\n",
        "    )   \n",
        "    \n",
        "py.iplot(fig)"
      ],
      "execution_count": 0,
      "outputs": []
    },
    {
      "cell_type": "markdown",
      "metadata": {
        "id": "0mHd2detQDwS",
        "colab_type": "text"
      },
      "source": [
        ">  **Gender**\n",
        "\n",
        "**The graph shows the age distribution of infected and confirmed people\n",
        "by gender where men are more likely to die from coronavirus than\n",
        "women. Research has found that middle-aged and older men are\n",
        "having more chances to get infected by the virus. Researchers had\n",
        "found that the infection rate among men and women is the same but the\n",
        "death rate among men is 2.8% as compared with 1.7% for women.\n",
        "As there are a few reasons men are more likely to die from the new\n",
        "coronavirus. As because Women have a heightened immunity system\n",
        "response. Scientists have explained the reason for more numbers of\n",
        "infected people from Coronavirus in men over women. As in china\n",
        "almost 50- 80% of men do smoking whereas only 2-3% of women do\n",
        "smoking which affects the respiratory system of men over women.**"
      ]
    },
    {
      "cell_type": "markdown",
      "metadata": {
        "id": "LJbOPgFVQDwS",
        "colab_type": "text"
      },
      "source": [
        "**Age distribution of the confirmation by gender**"
      ]
    },
    {
      "cell_type": "code",
      "metadata": {
        "trusted": true,
        "id": "CSC21dQhQDwT",
        "colab_type": "code",
        "colab": {}
      },
      "source": [
        "male_dead = an_data[an_data.sex=='male']\n",
        "female_dead = an_data[an_data.sex=='female']"
      ],
      "execution_count": 0,
      "outputs": []
    },
    {
      "cell_type": "code",
      "metadata": {
        "trusted": true,
        "id": "MknIXJVfQDwV",
        "colab_type": "code",
        "colab": {}
      },
      "source": [
        "plt.figure(figsize=(10,6))\n",
        "sns.set_style(\"darkgrid\")\n",
        "plt.title(\"Age distribution of the confirmation by gender\")\n",
        "sns.kdeplot(data=female_dead['age'], label=\"Women\", shade=True).set(xlim=(0))\n",
        "sns.kdeplot(data=male_dead['age'],label=\"Male\" ,shade=True).set(xlim=(0))\n"
      ],
      "execution_count": 0,
      "outputs": []
    },
    {
      "cell_type": "code",
      "metadata": {
        "trusted": true,
        "id": "g3okWQ0SQDwX",
        "colab_type": "code",
        "colab": {}
      },
      "source": [
        "sns.set_style(\"whitegrid\")\n",
        "sns.FacetGrid(an_data,  size = 5)\\\n",
        ".map(plt.scatter, 'age', 'sex')\\\n",
        ".add_legend()\n",
        "plt.title('Age vs Province',fontsize=40)\n",
        "plt.xticks(fontsize=18)\n",
        "plt.yticks(fontsize=28)\n",
        "\n",
        "\n",
        "plt.show()"
      ],
      "execution_count": 0,
      "outputs": []
    },
    {
      "cell_type": "code",
      "metadata": {
        "trusted": true,
        "id": "IKcqo4mVQDwZ",
        "colab_type": "code",
        "colab": {}
      },
      "source": [
        "data.head()"
      ],
      "execution_count": 0,
      "outputs": []
    },
    {
      "cell_type": "markdown",
      "metadata": {
        "id": "oQfmJLc-QDwd",
        "colab_type": "text"
      },
      "source": [
        "**Checking for Null Value**"
      ]
    },
    {
      "cell_type": "code",
      "metadata": {
        "trusted": true,
        "id": "xjyWytDtQDwd",
        "colab_type": "code",
        "colab": {}
      },
      "source": [
        "data.isna().sum()"
      ],
      "execution_count": 0,
      "outputs": []
    },
    {
      "cell_type": "markdown",
      "metadata": {
        "id": "xE44qL4cQDwg",
        "colab_type": "text"
      },
      "source": [
        "**Description of Data**"
      ]
    },
    {
      "cell_type": "code",
      "metadata": {
        "trusted": true,
        "id": "32hNc_maQDwh",
        "colab_type": "code",
        "colab": {}
      },
      "source": [
        "data.describe().T"
      ],
      "execution_count": 0,
      "outputs": []
    },
    {
      "cell_type": "markdown",
      "metadata": {
        "id": "Ve2bqeD3QDwj",
        "colab_type": "text"
      },
      "source": [
        "**Tracking the Patient**"
      ]
    },
    {
      "cell_type": "code",
      "metadata": {
        "trusted": true,
        "id": "gqpi0flcQDwj",
        "colab_type": "code",
        "colab": {}
      },
      "source": [
        "data.shape"
      ],
      "execution_count": 0,
      "outputs": []
    },
    {
      "cell_type": "code",
      "metadata": {
        "trusted": true,
        "id": "oNdo23oUQDwl",
        "colab_type": "code",
        "colab": {}
      },
      "source": [
        "clus=data.loc[:,['SNo','Latitude','Longitude']]\n",
        "clus.head()"
      ],
      "execution_count": 0,
      "outputs": []
    },
    {
      "cell_type": "markdown",
      "metadata": {
        "id": "ia929RfFQDwn",
        "colab_type": "text"
      },
      "source": [
        "**Checking for number of cluster**"
      ]
    },
    {
      "cell_type": "code",
      "metadata": {
        "trusted": true,
        "id": "fi1J9xlBQDwo",
        "colab_type": "code",
        "colab": {}
      },
      "source": [
        "K_clusters = range(1,15)\n",
        "kmeans = [KMeans(n_clusters=i) for i in K_clusters]\n",
        "Y_axis = data[['Latitude']]\n",
        "X_axis = data[['Longitude']]\n",
        "score = [kmeans[i].fit(Y_axis).score(Y_axis) for i in range(len(kmeans))]\n",
        "plt.plot(K_clusters, score)\n",
        "plt.xlabel('Number of Clusters')\n",
        "plt.ylabel('Score')\n",
        "plt.title('Score vs Cluster')\n",
        "plt.show()"
      ],
      "execution_count": 0,
      "outputs": []
    },
    {
      "cell_type": "markdown",
      "metadata": {
        "id": "vyguqMNNQDwq",
        "colab_type": "text"
      },
      "source": [
        "**The score get cosntant after 4 clusters, so making more clusters will not help us. The value for k is 4 in this case**"
      ]
    },
    {
      "cell_type": "code",
      "metadata": {
        "trusted": true,
        "id": "ijJ8xL9CQDwq",
        "colab_type": "code",
        "colab": {}
      },
      "source": [
        "kmeans = KMeans(n_clusters = 4, init ='k-means++')\n",
        "kmeans.fit(clus[clus.columns[1:3]])\n",
        "clus['cluster_label'] = kmeans.fit_predict(clus[clus.columns[1:3]])\n",
        "centers = kmeans.cluster_centers_\n",
        "labels = kmeans.predict(clus[clus.columns[1:3]])"
      ],
      "execution_count": 0,
      "outputs": []
    },
    {
      "cell_type": "markdown",
      "metadata": {
        "id": "Jp1NgS2IQDws",
        "colab_type": "text"
      },
      "source": [
        "**Graphical representation of clusters**"
      ]
    },
    {
      "cell_type": "code",
      "metadata": {
        "trusted": true,
        "id": "qM7eZqfSQDws",
        "colab_type": "code",
        "colab": {}
      },
      "source": [
        "clus.plot.scatter(x = 'Latitude', y = 'Longitude', c=labels, s=50, cmap='viridis')\n",
        "plt.scatter(centers[:, 0], centers[:, 1], c='black', s=100, alpha=0.5)"
      ],
      "execution_count": 0,
      "outputs": []
    },
    {
      "cell_type": "markdown",
      "metadata": {
        "id": "VY6mMnIJQDwu",
        "colab_type": "text"
      },
      "source": [
        "**We will verify our clusters by putting values in world map by making use of folium library**"
      ]
    },
    {
      "cell_type": "markdown",
      "metadata": {
        "id": "fMPYjP1lQDwv",
        "colab_type": "text"
      },
      "source": [
        "**Affected place in world map including Hospitalised , Confirm , Deaths and Recovery**"
      ]
    },
    {
      "cell_type": "code",
      "metadata": {
        "trusted": true,
        "id": "B8G5dfqeQDww",
        "colab_type": "code",
        "colab": {}
      },
      "source": [
        " import folium\n",
        "italy_map = folium.Map(location=[42.8719,12.5674 ], zoom_start=5,tiles='Stamen Toner')\n",
        "\n",
        "for lat, lon,RegionName,TotalPositiveCases,Recovered,Deaths,TotalHospitalizedPatients in zip(data['Latitude'], data['Longitude'],data['RegionName'],data['TotalPositiveCases'],data['Recovered'],data['Deaths'],data['TotalHospitalizedPatients']):\n",
        "    folium.CircleMarker([lat, lon],\n",
        "                        radius=5,\n",
        "                        color='red',\n",
        "                      popup =('RegionName: ' + str(RegionName) + '<br>'\n",
        "                    'TotalPositiveCases: ' + str(TotalPositiveCases) + '<br>'\n",
        "                    'TotalHospitalizedPatients: ' + str(TotalHospitalizedPatients) + '<br>'\n",
        "                      'Recovered: ' + str(Recovered) + '<br>'\n",
        "                      'Deaths: ' + str(Deaths) + '<br>'),\n",
        "\n",
        "                        fill_color='red',\n",
        "                        fill_opacity=0.7 ).add_to(italy_map)\n",
        "italy_map"
      ],
      "execution_count": 0,
      "outputs": []
    },
    {
      "cell_type": "markdown",
      "metadata": {
        "id": "7hW6ONkgQDwz",
        "colab_type": "text"
      },
      "source": [
        "**The most affected cities and regions early in Italy are Lombardy, and then Emilia-Romagna, Veneto, Marche, and Piemonte. Milan is the second most populous Italian city which is located in Lombardy. Other areas in Italy which are affected by coronavirus include Toscana, Campania, Lazio, Liguria, Friuli Venezia Giulia, Sicilia, Puglia, Umbria, Abruzzo, Trento, Molise, Calabria, Sardegna, Valle d’Aosta, Basilicata, and Bolzano. As italy was the fourth most affected coronavirus country\n",
        "till last feb but now it has reached the maximum number of confirmed cases after China**"
      ]
    },
    {
      "cell_type": "markdown",
      "metadata": {
        "id": "3WIPdqJqQDwz",
        "colab_type": "text"
      },
      "source": [
        "**Grouping Data According to  Region Name**"
      ]
    },
    {
      "cell_type": "code",
      "metadata": {
        "trusted": true,
        "id": "kMHf6D5xQDw0",
        "colab_type": "code",
        "colab": {}
      },
      "source": [
        "data['Date'] = pd.to_datetime(data['Date']).dt.normalize()\n",
        "daily = data.sort_values(['Date','Country','RegionName'])\n",
        "latest = data[data.Date == daily.Date.max()]\n",
        "latest.head()"
      ],
      "execution_count": 0,
      "outputs": []
    },
    {
      "cell_type": "code",
      "metadata": {
        "trusted": true,
        "id": "OUE7_J7UQDw2",
        "colab_type": "code",
        "colab": {}
      },
      "source": [
        "data_groupby_region = latest.groupby(\"RegionName\")[['TotalPositiveCases', 'Deaths', 'Recovered','TestsPerformed','HospitalizedPatients','TotalHospitalizedPatients']].sum().reset_index()\n",
        "dgr = data_groupby_region \n",
        "dgr.head()"
      ],
      "execution_count": 0,
      "outputs": []
    },
    {
      "cell_type": "markdown",
      "metadata": {
        "id": "KUeDwLuvQDw4",
        "colab_type": "text"
      },
      "source": [
        "**Desciption of Grouped Data by Region**"
      ]
    },
    {
      "cell_type": "code",
      "metadata": {
        "trusted": true,
        "id": "Zyt5zcU8QDw5",
        "colab_type": "code",
        "colab": {}
      },
      "source": [
        "dgr.describe().T"
      ],
      "execution_count": 0,
      "outputs": []
    },
    {
      "cell_type": "markdown",
      "metadata": {
        "id": "cC0bdcT9QDw8",
        "colab_type": "text"
      },
      "source": [
        "**Test performed vs Region**"
      ]
    },
    {
      "cell_type": "code",
      "metadata": {
        "trusted": true,
        "id": "lMt70TREQDw8",
        "colab_type": "code",
        "colab": {}
      },
      "source": [
        "fig = px.bar(dgr[['RegionName', 'TestsPerformed']].sort_values('TestsPerformed', ascending=False), \n",
        "             y=\"TestsPerformed\", x=\"RegionName\", color='RegionName', \n",
        "             log_y=True, template='ggplot2', title='Test Performed vs Region')\n",
        "fig.show()\n"
      ],
      "execution_count": 0,
      "outputs": []
    },
    {
      "cell_type": "markdown",
      "metadata": {
        "id": "sf7ntgimQDw_",
        "colab_type": "text"
      },
      "source": [
        "**As the graph shows the test performed in different regions of Italy. Lombardia has the maximum number(25k+) of tests performed as it is the most infected in cities. As a result the next graph shows that it has the maximum number(7280) of positive coronavirus patients. Veneto is the second most infected city here followed by some more countries like Emilia Romagna, Lazio, Marche, Toscana, Piemonte, Friuli V.G. ,Campania, Sicilia, Liguria, Puglia, P.A. Trento, Calabria, Umbria, Abruzzo, Sardegna, Molisa, Basilicata, Valle d'Aosta, P.A. Bolzano etc.\n",
        "**"
      ]
    },
    {
      "cell_type": "markdown",
      "metadata": {
        "id": "TMCJAYcIQDw_",
        "colab_type": "text"
      },
      "source": [
        "**Confirmed Cases vs Region**"
      ]
    },
    {
      "cell_type": "code",
      "metadata": {
        "trusted": true,
        "id": "xlDlUt0nQDw_",
        "colab_type": "code",
        "colab": {}
      },
      "source": [
        "fig = px.bar(dgr[['RegionName', 'TotalPositiveCases']].sort_values('TotalPositiveCases', ascending=False), \n",
        "             y=\"TotalPositiveCases\", x=\"RegionName\", color='RegionName', \n",
        "             log_y=True, template='ggplot2', title='Confirmed Cases vs Region')\n",
        "fig.show()\n"
      ],
      "execution_count": 0,
      "outputs": []
    },
    {
      "cell_type": "markdown",
      "metadata": {
        "id": "m8YURJclQDxC",
        "colab_type": "text"
      },
      "source": [
        "**There are more than 10,000 people who are infected through this virus. Italy is the most affected country in the world after China, with 827 deaths and 12,462 confirmed cases in almost three weeks. The government has restricted all flights from china. as because at the end of January after two Chinese tourists came down with coronavirus during a trip to Italy. At the time, it was hopefully the best measure which can\n",
        "block the spread of the disease**"
      ]
    },
    {
      "cell_type": "markdown",
      "metadata": {
        "id": "g1JQc1ZSQDxC",
        "colab_type": "text"
      },
      "source": [
        "**Hospitalised Patient vs Region**"
      ]
    },
    {
      "cell_type": "code",
      "metadata": {
        "trusted": true,
        "id": "-H5y7yyOQDxD",
        "colab_type": "code",
        "colab": {}
      },
      "source": [
        "fig = px.bar(dgr[['RegionName', 'TotalHospitalizedPatients']].sort_values('TotalHospitalizedPatients', ascending=False), \n",
        "             y=\"TotalHospitalizedPatients\", x=\"RegionName\", color='RegionName', \n",
        "             log_y=True, template='ggplot2', title='Hospitalised Patient vs Region')\n",
        "fig.show()"
      ],
      "execution_count": 0,
      "outputs": []
    },
    {
      "cell_type": "markdown",
      "metadata": {
        "id": "UgPDHa8hQDxF",
        "colab_type": "text"
      },
      "source": [
        "**Recovery vs Region**"
      ]
    },
    {
      "cell_type": "code",
      "metadata": {
        "trusted": true,
        "id": "hyq8QyUoQDxF",
        "colab_type": "code",
        "colab": {}
      },
      "source": [
        "fig = px.bar(dgr[['RegionName', 'Recovered']].sort_values('Recovered', ascending=False), \n",
        "             y=\"Recovered\", x=\"RegionName\", color='RegionName', \n",
        "             log_y=True, template='ggplot2', title='Revovery vs Region')\n",
        "fig.show()\n"
      ],
      "execution_count": 0,
      "outputs": []
    },
    {
      "cell_type": "markdown",
      "metadata": {
        "id": "FaxvmFfgQDxH",
        "colab_type": "text"
      },
      "source": [
        "**Death vs Region Name**"
      ]
    },
    {
      "cell_type": "code",
      "metadata": {
        "trusted": true,
        "id": "VSq9qBxkQDxH",
        "colab_type": "code",
        "colab": {}
      },
      "source": [
        "fig = px.bar(dgr[['RegionName', 'Deaths']].sort_values('Deaths', ascending=False), \n",
        "             y=\"Deaths\", x=\"RegionName\", color='RegionName', \n",
        "             log_y=True, template='ggplot2', title='Death vs Region')\n",
        "fig.show()\n"
      ],
      "execution_count": 0,
      "outputs": []
    },
    {
      "cell_type": "code",
      "metadata": {
        "trusted": true,
        "id": "lirkB66oQDxJ",
        "colab_type": "code",
        "colab": {}
      },
      "source": [
        "dgrs_el = dgr.sort_values(by=['TotalPositiveCases'],ascending = False)\n",
        "dgrs_el.head()"
      ],
      "execution_count": 0,
      "outputs": []
    },
    {
      "cell_type": "markdown",
      "metadata": {
        "id": "_i8DrceMQDxM",
        "colab_type": "text"
      },
      "source": [
        "**Test and Confirm vs Region**"
      ]
    },
    {
      "cell_type": "code",
      "metadata": {
        "trusted": true,
        "id": "ujlp6IkjQDxM",
        "colab_type": "code",
        "colab": {}
      },
      "source": [
        "plt.figure(figsize=(23,10))\n",
        "plt.bar(dgrs_el.RegionName, dgrs_el.TestsPerformed,label=\"Tests Performed\")\n",
        "plt.bar(dgrs_el.RegionName, dgrs_el.TotalPositiveCases,label=\"Confirm Cases\")\n",
        "plt.xlabel('Region')\n",
        "plt.ylabel(\"Count\")\n",
        "plt.legend(frameon=True, fontsize=12)\n",
        "plt.title('Test and Confirm vs Region',fontsize = 35)\n",
        "\n",
        "plt.show()\n",
        "\n",
        "f, ax = plt.subplots(figsize=(80,30))\n",
        "ax=sns.scatterplot(x=\"RegionName\", y=\"TestsPerformed\", data=dgrs_el,\n",
        "             color=\"red\",label = \"Tests Performed\")\n",
        "ax=sns.scatterplot(x=\"RegionName\", y=\"TotalPositiveCases\", data=dgrs_el,\n",
        "             color=\"blue\",label = \"Confirm Cases\")\n",
        "ax.xaxis.set_tick_params(labelsize=35)\n",
        "\n",
        "plt.plot(dgrs_el.RegionName,dgrs_el.TestsPerformed,zorder=1,color=\"red\")\n",
        "plt.plot(dgrs_el.RegionName,dgrs_el.TotalPositiveCases,zorder=1,color=\"blue\")"
      ],
      "execution_count": 0,
      "outputs": []
    },
    {
      "cell_type": "markdown",
      "metadata": {
        "id": "6vSsCdVsQDxP",
        "colab_type": "text"
      },
      "source": [
        "**Confirmed cases vs People Hospitalised**"
      ]
    },
    {
      "cell_type": "code",
      "metadata": {
        "trusted": true,
        "id": "Mkkwgya_QDxQ",
        "colab_type": "code",
        "colab": {}
      },
      "source": [
        "plt.figure(figsize=(23,10))\n",
        "plt.bar(dgrs_el.RegionName, dgrs_el.TotalPositiveCases,label=\"Confirm Cases\")\n",
        "plt.bar(dgrs_el.RegionName, dgrs_el.TotalHospitalizedPatients,label=\"Hospitalized Patients\")\n",
        "\n",
        "plt.xlabel('Region')\n",
        "plt.ylabel(\"Count\")\n",
        "plt.legend(frameon=True, fontsize=12)\n",
        "plt.title('Confirm Cases vs People Hospitalised',fontsize= 35)\n",
        "plt.show()\n",
        "\n",
        "f, ax = plt.subplots(figsize=(40,20))\n",
        "\n",
        "ax=sns.scatterplot(x=\"RegionName\", y=\"TotalPositiveCases\", data=dgrs_el,\n",
        "             color=\"blue\",label = \"Confirm Cases\")\n",
        "ax=sns.scatterplot(x=\"RegionName\", y=\"TotalHospitalizedPatients\", data=dgrs_el,\n",
        "             color=\"red\",label = \"Hospitalized Patients\")\n",
        "ax.xaxis.set_tick_params(labelsize=18)\n",
        "plt.plot(dgrs_el.RegionName,dgrs_el.TotalPositiveCases,zorder=1,color=\"blue\")\n",
        "plt.plot(dgrs_el.RegionName,dgrs_el.TotalHospitalizedPatients,zorder=1,color=\"red\")\n"
      ],
      "execution_count": 0,
      "outputs": []
    },
    {
      "cell_type": "markdown",
      "metadata": {
        "id": "tjbkkAnYQDxT",
        "colab_type": "text"
      },
      "source": [
        "**The graph shows statistical data direct from WHO. as the data says in Lombardia after 7,000 and more confirmed cases there are only approximately 4.5K people who are hospitalised. This has become a situation of crisis in italy. Hospital condition is becoming worse day by day. According to the doctors not every patient is getting proper and equal care and that is the main cause of multi fold spread of coronavirus. The whole country is locked down. Government has announced there will be no gathering, no sporting event and no travelling across the country just because of the high number of deaths in the country**"
      ]
    },
    {
      "cell_type": "markdown",
      "metadata": {
        "id": "WzE1GMBjQDxT",
        "colab_type": "text"
      },
      "source": [
        "**Death and Recovery vs Region**"
      ]
    },
    {
      "cell_type": "code",
      "metadata": {
        "trusted": true,
        "id": "cuvzDyCAQDxT",
        "colab_type": "code",
        "colab": {}
      },
      "source": [
        "plt.figure(figsize=(23,10))\n",
        "plt.bar(dgrs_el.RegionName, dgrs_el.Recovered,label=\"Recovery\")\n",
        "plt.bar(dgrs_el.RegionName, dgrs_el.Deaths,label=\"Death\")\n",
        "plt.xlabel('Region')\n",
        "plt.ylabel(\"Count\")\n",
        "plt.legend(frameon=True, fontsize=12)\n",
        "plt.title('Death and Recovery vs Region', fontsize= 35)\n",
        "plt.show()\n",
        "\n",
        "f, ax = plt.subplots(figsize=(23,10))\n",
        "ax=sns.scatterplot(x=\"RegionName\", y=\"Recovered\", data=dgrs_el,\n",
        "             color=\"red\",label = \"Recovered\")\n",
        "ax=sns.scatterplot(x=\"RegionName\", y=\"Deaths\", data=dgrs_el,\n",
        "             color=\"blue\",label = \"Deaths\")\n",
        "plt.plot(dgrs_el.RegionName,dgrs_el.Recovered,zorder=1,color=\"red\")\n",
        "plt.plot(dgrs_el.RegionName,dgrs_el.Deaths,zorder=1,color=\"blue\")"
      ],
      "execution_count": 0,
      "outputs": []
    },
    {
      "cell_type": "markdown",
      "metadata": {
        "id": "tozOHJt5QDxW",
        "colab_type": "text"
      },
      "source": [
        "**According to the graph recovery rate of the patient is very slow. There are some common reasons behind the rapid increase in numbers of people infected through coronavirus. According to the data, the number of hospitalized people is far less than the number of people infected through novel-Coronavirus. According to the geographical structure of Italy In Europe the cases have now been confirmed in every member nation of the European Union. Italy will remain totally locked down as its healthcare system struggles to cope, on the other hand the nearby countries like Germany and France report alarming spikes in daily cases**"
      ]
    },
    {
      "cell_type": "code",
      "metadata": {
        "trusted": true,
        "id": "hv63qPzdQDxW",
        "colab_type": "code",
        "colab": {}
      },
      "source": [
        "data['Date'] = pd.to_datetime(data['Date']).dt.normalize()\n",
        "latest = data[data.Date == daily.Date.max()]"
      ],
      "execution_count": 0,
      "outputs": []
    },
    {
      "cell_type": "code",
      "metadata": {
        "trusted": true,
        "id": "Wmf9sxgFQDxY",
        "colab_type": "code",
        "colab": {}
      },
      "source": [
        "temp = latest.loc[:,['Date','HospitalizedPatients','IntensiveCarePatients','TotalHospitalizedPatients','HomeConfinement','Recovered','Deaths','TotalPositiveCases','TestsPerformed']]\n",
        "temp.head()"
      ],
      "execution_count": 0,
      "outputs": []
    },
    {
      "cell_type": "markdown",
      "metadata": {
        "id": "do8w7rakQDxc",
        "colab_type": "text"
      },
      "source": [
        "**Grouped by Provicne**"
      ]
    },
    {
      "cell_type": "code",
      "metadata": {
        "trusted": true,
        "id": "tC2TF_zJQDxd",
        "colab_type": "code",
        "colab": {}
      },
      "source": [
        "province.head()"
      ],
      "execution_count": 0,
      "outputs": []
    },
    {
      "cell_type": "code",
      "metadata": {
        "trusted": true,
        "id": "zk3ddj0ZQDxf",
        "colab_type": "code",
        "colab": {}
      },
      "source": [
        "provincegrp = province.groupby(\"ProvinceName\")[[\"TotalPositiveCases\"]].max().reset_index()"
      ],
      "execution_count": 0,
      "outputs": []
    },
    {
      "cell_type": "code",
      "metadata": {
        "trusted": true,
        "id": "8XBYGpGRQDxh",
        "colab_type": "code",
        "colab": {}
      },
      "source": [
        "fig = px.bar(provincegrp[['ProvinceName', 'TotalPositiveCases']].sort_values('TotalPositiveCases', ascending=False), \n",
        "             y=\"TotalPositiveCases\", x=\"ProvinceName\", color='ProvinceName', \n",
        "             log_y=True, template='ggplot2', title='Province vs Region')\n",
        "fig.show()"
      ],
      "execution_count": 0,
      "outputs": []
    },
    {
      "cell_type": "code",
      "metadata": {
        "trusted": true,
        "id": "3MIH7Cw7QDxk",
        "colab_type": "code",
        "colab": {}
      },
      "source": [
        "sns.set_style(\"whitegrid\")\n",
        "sns.FacetGrid(province,  size = 30)\\\n",
        ".map(plt.scatter, 'RegionName', 'ProvinceName')\\\n",
        ".add_legend()\n",
        "plt.title('Age vs Infection Reason',fontsize=30)\n",
        "plt.xticks(fontsize=12)\n",
        "plt.yticks(fontsize=15)\n",
        "plt.show()"
      ],
      "execution_count": 0,
      "outputs": []
    },
    {
      "cell_type": "markdown",
      "metadata": {
        "id": "01OgN_BfQDxn",
        "colab_type": "text"
      },
      "source": [
        "**Descipiton of Data grouped by Date**"
      ]
    },
    {
      "cell_type": "code",
      "metadata": {
        "trusted": true,
        "id": "8RPOCshRQDxn",
        "colab_type": "code",
        "colab": {}
      },
      "source": [
        "temp.describe().T"
      ],
      "execution_count": 0,
      "outputs": []
    },
    {
      "cell_type": "code",
      "metadata": {
        "trusted": true,
        "id": "mZlxGf1YQDxp",
        "colab_type": "code",
        "colab": {}
      },
      "source": [
        "data_groupby_date = latest.groupby(\"Date\")[['Date','HospitalizedPatients','IntensiveCarePatients','TotalHospitalizedPatients','HomeConfinement','Recovered','Deaths','TotalPositiveCases','TestsPerformed']].sum().reset_index()\n",
        "data_groupby_date"
      ],
      "execution_count": 0,
      "outputs": []
    },
    {
      "cell_type": "markdown",
      "metadata": {
        "id": "05INLRSFQDxr",
        "colab_type": "text"
      },
      "source": [
        "**Ratio and percentage of Confirmation, Deaths and Deaths, Recovery after Confirmation**"
      ]
    },
    {
      "cell_type": "code",
      "metadata": {
        "trusted": true,
        "id": "pPEpgewmQDxr",
        "colab_type": "code",
        "colab": {}
      },
      "source": [
        "ps_ts = float(data_groupby_date.TotalPositiveCases/data_groupby_date.TestsPerformed)\n",
        "d_ts = float(data_groupby_date.Deaths/data_groupby_date.TestsPerformed)\n",
        "r_ps = float(data_groupby_date.Recovered/data_groupby_date.TotalPositiveCases)\n",
        "d_ps = float(data_groupby_date.Deaths/data_groupby_date.TotalPositiveCases)"
      ],
      "execution_count": 0,
      "outputs": []
    },
    {
      "cell_type": "code",
      "metadata": {
        "trusted": true,
        "id": "uY5LGl7nQDxt",
        "colab_type": "code",
        "colab": {}
      },
      "source": [
        "print(\"The percentage of Confirmation is \"+ str(ps_ts*100) )\n",
        "print(\"The percentage of Death is \"+ str(d_ts*100) )\n",
        "print(\"The percentage of Death after confirmation is \"+ str(d_ps*100) )\n",
        "print(\"The percentage of recovery after confirmation is \"+ str(r_ps*100) )"
      ],
      "execution_count": 0,
      "outputs": []
    },
    {
      "cell_type": "code",
      "metadata": {
        "trusted": true,
        "id": "SGRoebC-QDxv",
        "colab_type": "code",
        "colab": {}
      },
      "source": [
        "data_groupby_date1 = data.groupby(\"Date\")[['TotalPositiveCases', 'Deaths', 'Recovered','TestsPerformed','HospitalizedPatients','TotalHospitalizedPatients']].sum().reset_index()\n",
        "dgd3 = data_groupby_date1\n",
        "dgd3.head()"
      ],
      "execution_count": 0,
      "outputs": []
    },
    {
      "cell_type": "code",
      "metadata": {
        "trusted": true,
        "id": "j21d77SVQDxy",
        "colab_type": "code",
        "colab": {}
      },
      "source": [
        "dgd2 = dgd3"
      ],
      "execution_count": 0,
      "outputs": []
    },
    {
      "cell_type": "code",
      "metadata": {
        "trusted": true,
        "id": "rzsR2GbXQDx1",
        "colab_type": "code",
        "colab": {}
      },
      "source": [
        "dgd2[\"Date\"]= dgd3[\"Date\"].dt.strftime(\"%d-%m-%y\") \n",
        "dgd2.head()"
      ],
      "execution_count": 0,
      "outputs": []
    },
    {
      "cell_type": "markdown",
      "metadata": {
        "id": "5myKA3jTQDx3",
        "colab_type": "text"
      },
      "source": [
        "**Test vs Confirmed**\n"
      ]
    },
    {
      "cell_type": "code",
      "metadata": {
        "trusted": true,
        "id": "L_dRuS0qQDx5",
        "colab_type": "code",
        "colab": {}
      },
      "source": [
        "dgd2 = dgd2.tail(14)"
      ],
      "execution_count": 0,
      "outputs": []
    },
    {
      "cell_type": "code",
      "metadata": {
        "trusted": true,
        "id": "7MVmZLvVQDx7",
        "colab_type": "code",
        "colab": {}
      },
      "source": [
        "plt.figure(figsize=(23,10))\n",
        "plt.bar(dgd2.Date, dgd2.TestsPerformed,label=\"Tests Performed\")\n",
        "plt.bar(dgd2.Date, dgd2.TotalPositiveCases,label=\"Confirm Cases\")\n",
        "plt.xlabel('Date')\n",
        "plt.ylabel(\"Count\")\n",
        "plt.legend(frameon=True, fontsize=12)\n",
        "plt.title('Test Peroformed vs Confirmed Cases',fontsize = 35)\n",
        "plt.show()\n",
        "\n",
        "f, ax = plt.subplots(figsize=(23,10))\n",
        "ax=sns.scatterplot(x=\"Date\", y=\"TestsPerformed\", data=dgd2,\n",
        "             color=\"red\",label = \"Tests Performed\")\n",
        "ax=sns.scatterplot(x=\"Date\", y=\"TotalPositiveCases\", data=dgd2,\n",
        "             color=\"blue\",label = \"Confirm Cases\")\n",
        "plt.plot(dgd2.Date,dgd2.TestsPerformed,zorder=1,color=\"red\")\n",
        "plt.plot(dgd2.Date,dgd2.TotalPositiveCases,zorder=1,color=\"blue\")"
      ],
      "execution_count": 0,
      "outputs": []
    },
    {
      "cell_type": "markdown",
      "metadata": {
        "id": "yq7qD3WGQDx8",
        "colab_type": "text"
      },
      "source": [
        "**Confirmed cases vs People Hospitalised**"
      ]
    },
    {
      "cell_type": "code",
      "metadata": {
        "trusted": true,
        "id": "eKQSFfduQDx9",
        "colab_type": "code",
        "colab": {}
      },
      "source": [
        "plt.figure(figsize=(23,10))\n",
        "plt.bar(dgd2.Date, dgd2.TotalPositiveCases,label=\"Confirm Cases\")\n",
        "plt.bar(dgd2.Date, dgd2.TotalHospitalizedPatients,label=\"Hospitalized Patients\")\n",
        "plt.xlabel('Date')\n",
        "plt.ylabel(\"Count\")\n",
        "plt.legend(frameon=True, fontsize=12)\n",
        "plt.title('Confirmed Cases vs Hospitalised Cases',fontsize= 35)\n",
        "plt.show()\n",
        "\n",
        "f, ax = plt.subplots(figsize=(23,10))\n",
        "ax=sns.scatterplot(x=\"Date\", y=\"TotalHospitalizedPatients\", data=dgd2,\n",
        "             color=\"red\",label = \"Hospitalized Patients\")\n",
        "ax=sns.scatterplot(x=\"Date\", y=\"TotalPositiveCases\", data=dgd2,\n",
        "             color=\"blue\",label = \"Confirm Cases\")\n",
        "plt.plot(dgd2.Date,dgd2.TotalHospitalizedPatients,zorder=1,color=\"red\")\n",
        "plt.plot(dgd2.Date,dgd2.TotalPositiveCases,zorder=1,color=\"blue\")"
      ],
      "execution_count": 0,
      "outputs": []
    },
    {
      "cell_type": "markdown",
      "metadata": {
        "id": "KLGTspsgQDyA",
        "colab_type": "text"
      },
      "source": [
        "**Hospitalise vs Recevery and Death**"
      ]
    },
    {
      "cell_type": "code",
      "metadata": {
        "trusted": true,
        "id": "sl95uTS5QDyA",
        "colab_type": "code",
        "colab": {}
      },
      "source": [
        "plt.figure(figsize=(23,10))\n",
        "plt.bar(dgd2.Date, dgd2.TotalHospitalizedPatients,label=\"Hospitaise Patients\")\n",
        "plt.bar(dgd2.Date, dgd2.Recovered,label=\"Recovery\")\n",
        "plt.bar(dgd2.Date, dgd2.Deaths,label=\"Death\")\n",
        "plt.xlabel('Date')\n",
        "plt.ylabel(\"Count\")\n",
        "plt.legend(frameon=True, fontsize=12)\n",
        "plt.title('Hospitalise vs Recovery vs Death',fontsize=30)\n",
        "plt.show()\n",
        "\n",
        "f, ax = plt.subplots(figsize=(23,10))\n",
        "ax=sns.scatterplot(x=\"Date\", y=\"TotalHospitalizedPatients\", data=dgd2,\n",
        "             color=\"black\",label = \"Hospitalise Patients\")\n",
        "ax=sns.scatterplot(x=\"Date\", y=\"Recovered\", data=dgd2,\n",
        "             color=\"red\",label = \"Recovery\")\n",
        "ax=sns.scatterplot(x=\"Date\", y=\"Deaths\", data=dgd2,\n",
        "             color=\"blue\",label = \"Death\")\n",
        "plt.plot(dgd2.Date,dgd2.TotalHospitalizedPatients,zorder=1,color=\"black\")\n",
        "plt.plot(dgd2.Date,dgd2.Recovered,zorder=1,color=\"red\")\n",
        "plt.plot(dgd2.Date,dgd2.Deaths,zorder=1,color=\"blue\")"
      ],
      "execution_count": 0,
      "outputs": []
    },
    {
      "cell_type": "markdown",
      "metadata": {
        "id": "ea-V0hFDQDyC",
        "colab_type": "text"
      },
      "source": [
        "**Confirm vs Recovery vs Death**"
      ]
    },
    {
      "cell_type": "code",
      "metadata": {
        "trusted": true,
        "id": "8sn4XDESQDyC",
        "colab_type": "code",
        "colab": {}
      },
      "source": [
        "plt.figure(figsize=(23,10))\n",
        "plt.bar(dgd2.Date, dgd2.TotalPositiveCases,label=\"Confirm\")\n",
        "plt.bar(dgd2.Date, dgd2.Recovered,label=\"Recovery\")\n",
        "plt.bar(dgd2.Date, dgd2.Deaths,label=\"Death\")\n",
        "plt.xlabel('Date')\n",
        "plt.ylabel(\"Count\")\n",
        "plt.legend(frameon=True, fontsize=12)\n",
        "plt.title('Confrim vs Recovery vs Death',fontsize=30)\n",
        "plt.show()\n",
        "\n",
        "f, ax = plt.subplots(figsize=(23,10))\n",
        "ax=sns.scatterplot(x=\"Date\", y=\"TotalPositiveCases\", data=dgd2,\n",
        "             color=\"black\",label = \"Confirm\")\n",
        "ax=sns.scatterplot(x=\"Date\", y=\"Recovered\", data=dgd2,\n",
        "             color=\"red\",label = \"Recovery\")\n",
        "ax=sns.scatterplot(x=\"Date\", y=\"Deaths\", data=dgd2,\n",
        "             color=\"blue\",label = \"Death\")\n",
        "plt.plot(dgd2.Date,dgd2.TotalPositiveCases,zorder=1,color=\"black\")\n",
        "plt.plot(dgd2.Date,dgd2.Recovered,zorder=1,color=\"red\")\n",
        "plt.plot(dgd2.Date,dgd2.Deaths,zorder=1,color=\"blue\")"
      ],
      "execution_count": 0,
      "outputs": []
    },
    {
      "cell_type": "markdown",
      "metadata": {
        "id": "DM_eX3C9QDyF",
        "colab_type": "text"
      },
      "source": [
        "**This graph gives an overview of the current situation of italy. There are more than 12,000 confirmed cases now. There is approximately equal number of deaths as of recovery. From the date the country has confirmed its first case of positive coronavirus it has been increasing exponentially. Till the date 11,Mar italy has become the second most infected country after China.**"
      ]
    },
    {
      "cell_type": "code",
      "metadata": {
        "trusted": true,
        "id": "TV_gzyIrQDyF",
        "colab_type": "code",
        "colab": {}
      },
      "source": [
        "data_groupby_date1 = data.groupby(\"Date\")[['TotalPositiveCases', 'Deaths', 'Recovered','TestsPerformed','HospitalizedPatients','TotalHospitalizedPatients']].sum().reset_index()\n",
        "dgd1 = data_groupby_date1\n",
        "dgd1.head()"
      ],
      "execution_count": 0,
      "outputs": []
    },
    {
      "cell_type": "markdown",
      "metadata": {
        "id": "YhT7gI_KQDyH",
        "colab_type": "text"
      },
      "source": [
        "> **Prophet  Algorithm**"
      ]
    },
    {
      "cell_type": "markdown",
      "metadata": {
        "id": "deU7J2nAQDyH",
        "colab_type": "text"
      },
      "source": [
        "For Number of Test(Screening)"
      ]
    },
    {
      "cell_type": "code",
      "metadata": {
        "trusted": true,
        "id": "t8HJf9tcQDyI",
        "colab_type": "code",
        "colab": {}
      },
      "source": [
        "pr_data_test = dgd1.loc[:,['Date','TestsPerformed']]\n",
        "pr_data_test.columns = ['ds','y']\n",
        "pr_data_test.head()"
      ],
      "execution_count": 0,
      "outputs": []
    },
    {
      "cell_type": "markdown",
      "metadata": {
        "id": "fRefmjgoQDyK",
        "colab_type": "text"
      },
      "source": [
        "**Modeling**"
      ]
    },
    {
      "cell_type": "code",
      "metadata": {
        "trusted": true,
        "id": "TyBmTu3lQDyK",
        "colab_type": "code",
        "colab": {}
      },
      "source": [
        "m = Prophet()\n",
        "m.fit(pr_data_test)\n",
        "future=m.make_future_dataframe(periods=15)\n",
        "forecast_test=m.predict(future)\n",
        "forecast_test"
      ],
      "execution_count": 0,
      "outputs": []
    },
    {
      "cell_type": "markdown",
      "metadata": {
        "id": "S54z-8-6QDyM",
        "colab_type": "text"
      },
      "source": [
        "**Predicting**"
      ]
    },
    {
      "cell_type": "code",
      "metadata": {
        "trusted": true,
        "id": "ADXf9O7MQDyM",
        "colab_type": "code",
        "colab": {}
      },
      "source": [
        "test = forecast_test.loc[:,['ds','trend']]\n",
        "test = test[test['trend']>0]\n",
        "test.head()\n",
        "test=test.tail(15)\n",
        "test.columns = ['Date','Screening']\n",
        "test.head()\n"
      ],
      "execution_count": 0,
      "outputs": []
    },
    {
      "cell_type": "markdown",
      "metadata": {
        "id": "0N5X5sloQDyN",
        "colab_type": "text"
      },
      "source": [
        "**Graphical Representation of Predicted Screening**"
      ]
    },
    {
      "cell_type": "code",
      "metadata": {
        "trusted": true,
        "id": "8MRC7w-GQDyO",
        "colab_type": "code",
        "colab": {}
      },
      "source": [
        "fig_test = plot_plotly(m, forecast_test)\n",
        "py.iplot(fig_test) \n",
        "\n",
        "fig_test = m.plot(forecast_test,xlabel='Date',ylabel='Scrrening Count')"
      ],
      "execution_count": 0,
      "outputs": []
    },
    {
      "cell_type": "code",
      "metadata": {
        "trusted": true,
        "id": "tlNVEdRSQDyP",
        "colab_type": "code",
        "colab": {}
      },
      "source": [
        "figure_test=m.plot_components(forecast_test)\n"
      ],
      "execution_count": 0,
      "outputs": []
    },
    {
      "cell_type": "markdown",
      "metadata": {
        "id": "x_ZH7_mHQDyQ",
        "colab_type": "text"
      },
      "source": [
        "**The graph predicts the total number of screening required to take the condition of Italy under control. When there will be more than 14Lakhs of screening till Mar,2021 then the situation will be under control. As the graph is linear so European governments are supposed to work accordingly.**"
      ]
    },
    {
      "cell_type": "markdown",
      "metadata": {
        "id": "-71JUljzQDyQ",
        "colab_type": "text"
      },
      "source": [
        "**Confirmed Cases**"
      ]
    },
    {
      "cell_type": "markdown",
      "metadata": {
        "id": "pVDfYL24QDyR",
        "colab_type": "text"
      },
      "source": [
        "**Making Data ready for algorithm**"
      ]
    },
    {
      "cell_type": "code",
      "metadata": {
        "trusted": true,
        "id": "KopPW9XCQDyR",
        "colab_type": "code",
        "colab": {}
      },
      "source": [
        "pr_data_cm = dgd1.loc[:,['Date','TotalPositiveCases']]\n",
        "pr_data_cm.columns = ['ds','y']\n",
        "pr_data_cm.head()"
      ],
      "execution_count": 0,
      "outputs": []
    },
    {
      "cell_type": "markdown",
      "metadata": {
        "id": "9AitxB4bQDyS",
        "colab_type": "text"
      },
      "source": [
        "**Modelling**"
      ]
    },
    {
      "cell_type": "code",
      "metadata": {
        "trusted": true,
        "id": "OYf8k6epQDyS",
        "colab_type": "code",
        "colab": {}
      },
      "source": [
        "m=Prophet()\n",
        "m.fit(pr_data_cm)\n",
        "future=m.make_future_dataframe(periods=15)\n",
        "forecast_cm=m.predict(future)\n",
        "forecast_cm"
      ],
      "execution_count": 0,
      "outputs": []
    },
    {
      "cell_type": "markdown",
      "metadata": {
        "id": "nxPBtXpmQDyU",
        "colab_type": "text"
      },
      "source": [
        "**Predicting**"
      ]
    },
    {
      "cell_type": "code",
      "metadata": {
        "trusted": true,
        "id": "sxXL0vp6QDyU",
        "colab_type": "code",
        "colab": {}
      },
      "source": [
        "cnfrm = forecast_cm.loc[:,['ds','trend']]\n",
        "cnfrm = cnfrm[cnfrm['trend']>0]\n",
        "cnfrm=cnfrm.tail(15)\n",
        "cnfrm.columns = ['Date','Confirm']\n",
        "cnfrm.head()"
      ],
      "execution_count": 0,
      "outputs": []
    },
    {
      "cell_type": "markdown",
      "metadata": {
        "id": "VetSbBEhQDyX",
        "colab_type": "text"
      },
      "source": [
        "**Graphical Representation of Predicted Confiramtion**"
      ]
    },
    {
      "cell_type": "code",
      "metadata": {
        "trusted": true,
        "id": "1110NWwdQDyX",
        "colab_type": "code",
        "colab": {}
      },
      "source": [
        "fig_cm = plot_plotly(m, forecast_cm)\n",
        "py.iplot(fig_cm) \n",
        "\n",
        "fig_cm = m.plot(forecast_cm,xlabel='Date',ylabel='Confirmed Count')"
      ],
      "execution_count": 0,
      "outputs": []
    },
    {
      "cell_type": "code",
      "metadata": {
        "trusted": true,
        "id": "d53EajHSQDyZ",
        "colab_type": "code",
        "colab": {}
      },
      "source": [
        "figure_cm=m.plot_components(forecast_cm)\n"
      ],
      "execution_count": 0,
      "outputs": []
    },
    {
      "cell_type": "markdown",
      "metadata": {
        "id": "deEOXrEBQDyb",
        "colab_type": "text"
      },
      "source": [
        "Predicting the number of cases confirmed in Italy till Feb, 2021. Therewill be more than 2.5 Lakhs people who will be affected by coronavirus."
      ]
    },
    {
      "cell_type": "markdown",
      "metadata": {
        "id": "sbBu1ynMQDyb",
        "colab_type": "text"
      },
      "source": [
        "**Recovery**"
      ]
    },
    {
      "cell_type": "markdown",
      "metadata": {
        "id": "6gIrYUouQDyc",
        "colab_type": "text"
      },
      "source": [
        "**Making Data Ready for algorithm**"
      ]
    },
    {
      "cell_type": "code",
      "metadata": {
        "trusted": true,
        "id": "E7ZWxUO6QDyd",
        "colab_type": "code",
        "colab": {}
      },
      "source": [
        "pr_data_r = dgd1.loc[:,['Date','Recovered']]\n",
        "pr_data_r.columns = ['ds','y']\n",
        "pr_data_r.head()"
      ],
      "execution_count": 0,
      "outputs": []
    },
    {
      "cell_type": "markdown",
      "metadata": {
        "id": "rFZxr9CKQDyf",
        "colab_type": "text"
      },
      "source": [
        "**Modelling**"
      ]
    },
    {
      "cell_type": "code",
      "metadata": {
        "trusted": true,
        "id": "NbLlHCjcQDyf",
        "colab_type": "code",
        "colab": {}
      },
      "source": [
        "m=Prophet()\n",
        "m.fit(pr_data_r)\n",
        "future=m.make_future_dataframe(periods=15)\n",
        "forecast_r=m.predict(future)\n",
        "forecast_r"
      ],
      "execution_count": 0,
      "outputs": []
    },
    {
      "cell_type": "markdown",
      "metadata": {
        "id": "q6PC0T8sQDyh",
        "colab_type": "text"
      },
      "source": [
        "**Predicting**"
      ]
    },
    {
      "cell_type": "code",
      "metadata": {
        "trusted": true,
        "id": "wKgd3JH4QDyh",
        "colab_type": "code",
        "colab": {}
      },
      "source": [
        "rec = forecast_r.loc[:,['ds','trend']]\n",
        "rec = rec[rec['trend']>0]\n",
        "rec=rec.tail(15)\n",
        "rec.columns = ['Date','Recovery']\n",
        "rec.head()"
      ],
      "execution_count": 0,
      "outputs": []
    },
    {
      "cell_type": "markdown",
      "metadata": {
        "id": "VB1hVvsiQDyj",
        "colab_type": "text"
      },
      "source": [
        "**Graphical Representation of Predicted Recovery**"
      ]
    },
    {
      "cell_type": "code",
      "metadata": {
        "trusted": true,
        "id": "WYRyVe5VQDyj",
        "colab_type": "code",
        "colab": {}
      },
      "source": [
        "fig_r = plot_plotly(m, forecast_r)\n",
        "py.iplot(fig_r) \n",
        "\n",
        "fig_r = m.plot(forecast_r,xlabel='Date',ylabel='Recovery Count')"
      ],
      "execution_count": 0,
      "outputs": []
    },
    {
      "cell_type": "code",
      "metadata": {
        "trusted": true,
        "id": "dzLzDoNbQDyl",
        "colab_type": "code",
        "colab": {}
      },
      "source": [
        "figure_r=m.plot_components(forecast_r)\n"
      ],
      "execution_count": 0,
      "outputs": []
    },
    {
      "cell_type": "markdown",
      "metadata": {
        "id": "82loS6FWQDyn",
        "colab_type": "text"
      },
      "source": [
        "**For   Deaths**"
      ]
    },
    {
      "cell_type": "markdown",
      "metadata": {
        "id": "SCqnc238QDyn",
        "colab_type": "text"
      },
      "source": [
        "**Making data ready for algorithm**"
      ]
    },
    {
      "cell_type": "code",
      "metadata": {
        "trusted": true,
        "id": "xRW8QrepQDyn",
        "colab_type": "code",
        "colab": {}
      },
      "source": [
        "pr_data_d = dgd1.loc[:,['Date','Deaths']]\n",
        "pr_data_d.columns = ['ds','y']\n",
        "pr_data_d.head()"
      ],
      "execution_count": 0,
      "outputs": []
    },
    {
      "cell_type": "markdown",
      "metadata": {
        "id": "S9ZzRfPlQDyo",
        "colab_type": "text"
      },
      "source": [
        "**Modelling**"
      ]
    },
    {
      "cell_type": "code",
      "metadata": {
        "trusted": true,
        "id": "oE9Orx4HQDyp",
        "colab_type": "code",
        "colab": {}
      },
      "source": [
        "m=Prophet()\n",
        "m.fit(pr_data_d)\n",
        "future=m.make_future_dataframe(periods=15)\n",
        "forecast_d=m.predict(future)\n",
        "forecast_d"
      ],
      "execution_count": 0,
      "outputs": []
    },
    {
      "cell_type": "markdown",
      "metadata": {
        "id": "IbA9T3NHQDys",
        "colab_type": "text"
      },
      "source": [
        "**Predicting**"
      ]
    },
    {
      "cell_type": "code",
      "metadata": {
        "trusted": true,
        "id": "2auHWE0iQDyt",
        "colab_type": "code",
        "colab": {}
      },
      "source": [
        "dth = forecast_d.loc[:,['ds','trend']]\n",
        "dth = dth[dth['trend']>0]\n",
        "dth=dth.tail(15)\n",
        "dth.columns = ['Date','Death']\n",
        "dth.head()\n"
      ],
      "execution_count": 0,
      "outputs": []
    },
    {
      "cell_type": "markdown",
      "metadata": {
        "id": "LcOkpx6BQDyu",
        "colab_type": "text"
      },
      "source": [
        "**Graphical Representation of Predicted Death**"
      ]
    },
    {
      "cell_type": "code",
      "metadata": {
        "trusted": true,
        "id": "hs7c-WjtQDyu",
        "colab_type": "code",
        "colab": {}
      },
      "source": [
        "fig_d = plot_plotly(m, forecast_d)\n",
        "py.iplot(fig_d) \n",
        "\n",
        "fig_d = m.plot(forecast_d,xlabel='Date',ylabel='Deaths Count')"
      ],
      "execution_count": 0,
      "outputs": []
    },
    {
      "cell_type": "code",
      "metadata": {
        "trusted": true,
        "id": "8LsQkPMKQDyw",
        "colab_type": "code",
        "colab": {}
      },
      "source": [
        "figure_d=m.plot_components(forecast_d)\n"
      ],
      "execution_count": 0,
      "outputs": []
    },
    {
      "cell_type": "markdown",
      "metadata": {
        "id": "HkQzFovSQDyy",
        "colab_type": "text"
      },
      "source": [
        "**The current situation is not under control. According to current data recovery percent of confirmed patients is 53% whereas death is 47% respectively. But the prediction says there will approximately 25000 people who will be recovered and around 14000 people will be dead till Feb 2021. And rest will be in isolation.**"
      ]
    },
    {
      "cell_type": "markdown",
      "metadata": {
        "id": "JXHkIHYIQDy0",
        "colab_type": "text"
      },
      "source": [
        "**How future looks like**"
      ]
    },
    {
      "cell_type": "code",
      "metadata": {
        "trusted": true,
        "id": "9pMWgaUIQDy0",
        "colab_type": "code",
        "colab": {}
      },
      "source": [
        "prediction = test\n",
        "prediction['Confirm'] = cnfrm.Confirm\n",
        "prediction['Recover'] = rec.Recovery\n",
        "prediction['Death'] = dth.Death"
      ],
      "execution_count": 0,
      "outputs": []
    },
    {
      "cell_type": "code",
      "metadata": {
        "trusted": true,
        "id": "PcpDoOn9QDy1",
        "colab_type": "code",
        "colab": {}
      },
      "source": [
        "prediction.head()"
      ],
      "execution_count": 0,
      "outputs": []
    },
    {
      "cell_type": "markdown",
      "metadata": {
        "id": "8yQtSx1rQDy2",
        "colab_type": "text"
      },
      "source": [
        "**Future Ratios**"
      ]
    },
    {
      "cell_type": "code",
      "metadata": {
        "trusted": true,
        "id": "oSkd-8IhQDy3",
        "colab_type": "code",
        "colab": {}
      },
      "source": [
        "pps_pts = float(prediction.Confirm.sum()/prediction.Screening.sum())\n",
        "pd_pts = float(prediction.Death.sum()/prediction.Screening.sum())\n",
        "pr_pps = float(prediction.Recover.sum()/prediction.Confirm.sum())\n",
        "pd_pps = float(prediction.Death.sum()/prediction.Confirm.sum())"
      ],
      "execution_count": 0,
      "outputs": []
    },
    {
      "cell_type": "code",
      "metadata": {
        "trusted": true,
        "id": "UsNiXeBkQDy4",
        "colab_type": "code",
        "colab": {}
      },
      "source": [
        "print(\"The percentage of  Predicted Confirmation is \"+ str(pps_pts*100) )\n",
        "print(\"The percentage of Predicted Death is \"+ str(pd_pts*100) )\n",
        "print(\"The percentage of Predicted Death after confirmation is \"+ str(pd_pps*100) )\n",
        "print(\"The percentage of Predicted recovery after confirmation is \"+ str(pr_pps*100) )"
      ],
      "execution_count": 0,
      "outputs": []
    },
    {
      "cell_type": "markdown",
      "metadata": {
        "id": "3nVC2P3yQDy6",
        "colab_type": "text"
      },
      "source": [
        "**Comparision with other countries**"
      ]
    },
    {
      "cell_type": "code",
      "metadata": {
        "trusted": true,
        "id": "koSeyc9xQDy6",
        "colab_type": "code",
        "colab": {}
      },
      "source": [
        "comp.head()"
      ],
      "execution_count": 0,
      "outputs": []
    },
    {
      "cell_type": "code",
      "metadata": {
        "trusted": true,
        "id": "dmM-o03SQDy7",
        "colab_type": "code",
        "colab": {}
      },
      "source": [
        "comp_table = pd.DataFrame(comp.describe().T)\n",
        "comp_table"
      ],
      "execution_count": 0,
      "outputs": []
    },
    {
      "cell_type": "code",
      "metadata": {
        "trusted": true,
        "id": "y8tXltpMQDy9",
        "colab_type": "code",
        "colab": {}
      },
      "source": [
        "comp = comp.loc[:,[\"Canada\",\"US\",\"Italy\",\"France\",\"Spain\",\"Austria\"]]"
      ],
      "execution_count": 0,
      "outputs": []
    },
    {
      "cell_type": "code",
      "metadata": {
        "trusted": true,
        "id": "n2-JgWIGQDy-",
        "colab_type": "code",
        "colab": {}
      },
      "source": [
        "comp.plot()"
      ],
      "execution_count": 0,
      "outputs": []
    },
    {
      "cell_type": "markdown",
      "metadata": {
        "id": "LfB9SZ-AQDy_",
        "colab_type": "text"
      },
      "source": [
        "> **Prevention**\n",
        "To avoid the critical situation people are suggested to do following\n",
        "things\n",
        "*  Avoid contact with people who are sick.\n",
        "*  Avoid touching your eyes, nose, and mouth.\n",
        "*  Stay home when you are sick.\n",
        "*  Cover your cough or sneeze with a tissue, then throw the tissue in\n",
        "the trash.\n",
        "*  Clean and disinfect frequently touched objects and surfaces using\n",
        "a regular household\n",
        "*  Wash your hands often with soap and water, especially after going\n",
        "to the bathroom; before eating; and after blowing your nose,\n",
        "coughing, or sneezing.If soap and water are not readily available, use an alcohol-based\n",
        "hand sanitizer."
      ]
    }
  ]
}